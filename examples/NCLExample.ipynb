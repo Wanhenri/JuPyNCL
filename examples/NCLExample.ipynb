{
 "cells": [
  {
   "cell_type": "code",
   "execution_count": 1,
   "metadata": {},
   "outputs": [
    {
     "name": "stdout",
     "output_type": "stream",
     "text": [
      "\n",
      "\n",
      "\n",
      "\n",
      "\n",
      "\u001b[?1h\u001b=\n",
      "(0)     2\n",
      "\u001b[K\u001b[?1l\u001b>\n",
      "\n"
     ]
    }
   ],
   "source": [
    ";some comment\n",
    "a=fspan(0,100,10)\n",
    "; some other comment\n",
    ";;;;;;;;\n",
    ";;;;;;;;;;;;;;\n",
    "print(2)"
   ]
  },
  {
   "cell_type": "code",
   "execution_count": 2,
   "metadata": {},
   "outputs": [
    {
     "name": "stdout",
     "output_type": "stream",
     "text": [
      "\n",
      "fatal:Variable (y) is undefined\n",
      "\n",
      "fatal:[\"Execute.c\":8638]:Execute: Error occurred at or near line 6\n",
      "\n",
      "\n",
      "\n"
     ]
    }
   ],
   "source": [
    "printVarSummary(y)"
   ]
  },
  {
   "cell_type": "code",
   "execution_count": 3,
   "metadata": {},
   "outputs": [
    {
     "name": "stdout",
     "output_type": "stream",
     "text": [
      "\n",
      "\u001b[?1h\u001b=\n",
      "(0)      0\n",
      "(1)     0.6666667\n",
      "(2)     1.333333\n",
      "(3)      2\n",
      "(4)     2.666667\n",
      "(5)     3.333333\n",
      "(6)      4\n",
      "(7)     4.666667\n",
      "(8)     5.333333\n",
      "(9)      6\n",
      "\n",
      "\u001b[K\u001b[?1l\u001b>\n",
      "\n"
     ]
    }
   ],
   "source": [
    "print(fspan(0,6,10))"
   ]
  },
  {
   "cell_type": "code",
   "execution_count": 5,
   "metadata": {},
   "outputs": [
    {
     "name": "stdout",
     "output_type": "stream",
     "text": [
      "\n",
      "\n",
      "\n",
      "\n",
      "\n",
      "\u001b[?1h\u001b=\n",
      "\n",
      "\n",
      "Variable: i\n",
      "Type: integer\n",
      "Total Size: 4 bytes\n",
      "            1 values\n",
      "Number of Dimensions: 1\n",
      "Dimensions and sizes:   [1]\n",
      "Coordinates: \n",
      "(0)     0\n",
      "\n",
      "\u001b[K\u001b[?1l\u001b>\u001b[?1h\u001b=\n",
      "\n",
      "\n",
      "Variable: i\n",
      "Type: integer\n",
      "Total Size: 4 bytes\n",
      "            1 values\n",
      "Number of Dimensions: 1\n",
      "Dimensions and sizes:   [1]\n",
      "Coordinates: \n",
      "(0)     1\n",
      "\n",
      "\u001b[K\u001b[?1l\u001b>\u001b[?1h\u001b=\n",
      "\n",
      "\n",
      "Variable: i\n",
      "Type: integer\n",
      "Total Size: 4 bytes\n",
      "            1 values\n",
      "Number of Dimensions: 1\n",
      "Dimensions and sizes:   [1]\n",
      "Coordinates: \n",
      "(0)     2\n",
      "\n",
      "\u001b[K\u001b[?1l\u001b>\u001b[?1h\u001b=\n",
      "\n",
      "\n",
      "Variable: i\n",
      "Type: integer\n",
      "Total Size: 4 bytes\n",
      "            1 values\n",
      "Number of Dimensions: 1\n",
      "Dimensions and sizes:   [1]\n",
      "Coordinates: \n",
      "(0)     3\n",
      "\n",
      "\u001b[K\u001b[?1l\u001b>\u001b[?1h\u001b=\n",
      "\n",
      "\n",
      "Variable: i\n",
      "Type: integer\n",
      "Total Size: 4 bytes\n",
      "            1 values\n",
      "Number of Dimensions: 1\n",
      "Dimensions and sizes:   [1]\n",
      "Coordinates: \n",
      "(0)     4\n",
      "\n",
      "\u001b[K\u001b[?1l\u001b>\u001b[?1h\u001b=\n",
      "\n",
      "\n",
      "Variable: i\n",
      "Type: integer\n",
      "Total Size: 4 bytes\n",
      "            1 values\n",
      "Number of Dimensions: 1\n",
      "Dimensions and sizes:   [1]\n",
      "Coordinates: \n",
      "(0)     5\n",
      "\n",
      "\u001b[K\u001b[?1l\u001b>\n",
      "\n"
     ]
    }
   ],
   "source": [
    "do i=0,5\n",
    "print(i)\n",
    "end do"
   ]
  },
  {
   "cell_type": "code",
   "execution_count": 6,
   "metadata": {},
   "outputs": [
    {
     "name": "stdout",
     "output_type": "stream",
     "text": [
      "\n",
      "\n"
     ]
    }
   ],
   "source": [
    "do i=0,5"
   ]
  },
  {
   "cell_type": "code",
   "execution_count": 7,
   "metadata": {},
   "outputs": [
    {
     "name": "stdout",
     "output_type": "stream",
     "text": [
      "\n",
      "\n"
     ]
    }
   ],
   "source": [
    "print(i)"
   ]
  },
  {
   "cell_type": "code",
   "execution_count": 8,
   "metadata": {},
   "outputs": [
    {
     "name": "stdout",
     "output_type": "stream",
     "text": [
      "\n",
      "\u001b[?1h\u001b=\n",
      "\n",
      "\n",
      "Variable: i\n",
      "Type: integer\n",
      "Total Size: 4 bytes\n",
      "            1 values\n",
      "Number of Dimensions: 1\n",
      "Dimensions and sizes:   [1]\n",
      "Coordinates: \n",
      "(0)     0\n",
      "\n",
      "\u001b[K\u001b[?1l\u001b>\u001b[?1h\u001b=\n",
      "\n",
      "\n",
      "Variable: i\n",
      "Type: integer\n",
      "Total Size: 4 bytes\n",
      "            1 values\n",
      "Number of Dimensions: 1\n",
      "Dimensions and sizes:   [1]\n",
      "Coordinates: \n",
      "(0)     1\n",
      "\n",
      "\u001b[K\u001b[?1l\u001b>\u001b[?1h\u001b=\n",
      "\n",
      "\n",
      "Variable: i\n",
      "Type: integer\n",
      "Total Size: 4 bytes\n",
      "            1 values\n",
      "Number of Dimensions: 1\n",
      "Dimensions and sizes:   [1]\n",
      "Coordinates: \n",
      "(0)     2\n",
      "\n",
      "\u001b[K\u001b[?1l\u001b>\u001b[?1h\u001b=\n",
      "\n",
      "\n",
      "Variable: i\n",
      "Type: integer\n",
      "Total Size: 4 bytes\n",
      "            1 values\n",
      "Number of Dimensions: 1\n",
      "Dimensions and sizes:   [1]\n",
      "Coordinates: \n",
      "(0)     3\n",
      "\n",
      "\u001b[K\u001b[?1l\u001b>\u001b[?1h\u001b=\n",
      "\n",
      "\n",
      "Variable: i\n",
      "Type: integer\n",
      "Total Size: 4 bytes\n",
      "            1 values\n",
      "Number of Dimensions: 1\n",
      "Dimensions and sizes:   [1]\n",
      "Coordinates: \n",
      "(0)     4\n",
      "\n",
      "\u001b[K\u001b[?1l\u001b>\u001b[?1h\u001b=\n",
      "\n",
      "\n",
      "Variable: i\n",
      "Type: integer\n",
      "Total Size: 4 bytes\n",
      "            1 values\n",
      "Number of Dimensions: 1\n",
      "Dimensions and sizes:   [1]\n",
      "Coordinates: \n",
      "(0)     5\n",
      "\n",
      "\u001b[K\u001b[?1l\u001b>\n",
      "\n"
     ]
    }
   ],
   "source": [
    "end do"
   ]
  },
  {
   "cell_type": "code",
   "execution_count": 8,
   "metadata": {},
   "outputs": [
    {
     "name": "stdout",
     "output_type": "stream",
     "text": [
      "4> ;;-----------------------------------\n",
      "5> ;------------------------------------\n",
      "6> ;------------------------------------\n",
      "7> ;------------------------------------\n"
     ]
    }
   ],
   "source": [
    ";;-----------------------------------\n",
    ";------------------------------------\n",
    ";------------------------------------\n",
    ";------------------------------------"
   ]
  },
  {
   "cell_type": "code",
   "execution_count": null,
   "metadata": {
    "collapsed": true
   },
   "outputs": [],
   "source": []
  }
 ],
 "metadata": {
  "kernelspec": {
   "display_name": "NCL",
   "language": "ncl",
   "name": "ncl_kernel"
  },
  "language_info": {
   "file_extension": ".ncl",
   "mimetype": "text/plain",
   "name": "ncl"
  }
 },
 "nbformat": 4,
 "nbformat_minor": 1
}
