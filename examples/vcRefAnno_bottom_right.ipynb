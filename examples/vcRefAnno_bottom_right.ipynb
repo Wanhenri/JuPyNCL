{
 "cells": [
  {
   "cell_type": "code",
   "execution_count": 1,
   "metadata": {
    "collapsed": true
   },
   "outputs": [],
   "source": [
    ";; Lets use data from Albanys Ramadda Server\n",
    "year = 2014\n",
    "var = \"u\"\n",
    "u_url = \"http://ramadda.atmos.albany.edu:8080/repository/opendap/Top/UAlbany+Repository/CFSR/\"+year+\"/\"+var+\".\"+year+\".0p5.anl.nc/entry.das.nc\"\n",
    "var = \"v\"\n",
    "v_url = \"http://ramadda.atmos.albany.edu:8080/repository/opendap/Top/UAlbany+Repository/CFSR/\"+year+\"/\"+var+\".\"+year+\".0p5.anl.nc/entry.das.nc\"\n",
    "\n",
    "\n"
   ]
  },
  {
   "cell_type": "code",
   "execution_count": 2,
   "metadata": {
    "collapsed": true
   },
   "outputs": [],
   "source": [
    ";; Just pull in the first time and first level from the files.\n",
    "\n",
    "u_f = addfile(u_url,\"r\")\n",
    "v_f = addfile(v_url,\"r\")\n",
    "u        = u_f->u(0,0,:,:)\n",
    "v        = v_f->v(0,0,:,:)\n",
    "wspd = sqrt(u^2 + v^2)\n",
    "copy_VarCoords( u, wspd)\n"
   ]
  },
  {
   "cell_type": "code",
   "execution_count": 7,
   "metadata": {
    "collapsed": true
   },
   "outputs": [],
   "source": [
    ";  Make the output workstation and set up some basic vector plot resources\n",
    "  wks = gsn_open_wks(\"png\",\"vector\")            ; send graphics to PNG file\n",
    "\n",
    "  res                      := True               ; plot mods desired\n",
    "  res@mpLandFillColor      = \"gray\"            ; set land to be gray\n",
    "  res@mpMinLonF            =  65.               ; select a subregion\n",
    "  res@mpMaxLonF            =  95.\n",
    "  res@mpMinLatF            =   5. \n",
    "  res@mpMaxLatF            =  25.\n",
    "\n",
    "  res@vcRefMagnitudeF           = 10.0             ; define vector ref mag\n",
    "  res@vcRefLengthF              = 0.045           ; define length of vec ref\n",
    "  \n",
    "  res@gsnDraw = False\n",
    "  res@gsnFrame = False"
   ]
  },
  {
   "cell_type": "code",
   "execution_count": 4,
   "metadata": {
    "collapsed": true
   },
   "outputs": [],
   "source": [
    ";; Typically NCL puts the Reference vector at the bottom of the plot\n",
    "res@vcRefAnnoSide = \"Top\"   ;; This will anchor it to the top of the plot.\n",
    "res@vcRefAnnoOrthogonalPosF   = -1.  ; Then we can move it down the size of the plot to the bottom right corner"
   ]
  },
  {
   "cell_type": "code",
   "execution_count": 8,
   "metadata": {
    "collapsed": true
   },
   "outputs": [],
   "source": [
    "  plot=gsn_csm_vector_map(wks,u,v,res)\n",
    "  draw(plot)\n",
    "  frame(wks)"
   ]
  },
  {
   "cell_type": "code",
   "execution_count": null,
   "metadata": {
    "collapsed": true
   },
   "outputs": [],
   "source": []
  }
 ],
 "metadata": {
  "kernelspec": {
   "display_name": "NCL",
   "language": "ncl",
   "name": "ncl_kernel"
  },
  "language_info": {
   "file_extension": ".ncl",
   "mimetype": "text/plain",
   "name": "ncl"
  }
 },
 "nbformat": 4,
 "nbformat_minor": 2
}
